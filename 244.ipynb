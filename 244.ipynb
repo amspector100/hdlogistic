{
 "cells": [
  {
   "cell_type": "code",
   "execution_count": 2,
   "metadata": {},
   "outputs": [
    {
     "name": "stdout",
     "output_type": "stream",
     "text": [
      "   Unnamed: 0  Estimate  Std. Error   z value  Pr(>|z|)\n",
      "0        X349  0.052351    0.054814  0.955067  0.339544\n",
      "1        X124  0.048599    0.061804  0.786338  0.431670\n",
      "2        X282  0.014807    0.090719  0.163215  0.870349\n",
      "3        X294 -0.032072    0.090046 -0.356173  0.721711\n",
      "4        X549 -0.009427    0.055581 -0.169605  0.865321\n",
      "..        ...       ...         ...       ...       ...\n",
      "95       X580  0.010935    0.073659  0.148450  0.881988\n",
      "96        X91 -0.023300    0.066609 -0.349810  0.726482\n",
      "97       X518  0.185612    0.491277  0.377815  0.705568\n",
      "98       X223 -0.000316    0.057839 -0.005456  0.995647\n",
      "99       X511  0.055144    0.053548  1.029791  0.303108\n",
      "\n",
      "[100 rows x 5 columns]\n",
      "   Unnamed: 0  adjusted_mle       std   z.value   p.value\n",
      "0        X349      0.044636  0.098001  0.455464  0.648775\n",
      "1        X124      0.041437  0.110814  0.373931  0.708456\n",
      "2        X282      0.012625  0.163159  0.077376  0.938324\n",
      "3        X294     -0.027345  0.160762 -0.170099  0.864933\n",
      "4        X549     -0.008038  0.099948 -0.080417  0.935906\n",
      "..        ...           ...       ...       ...       ...\n",
      "95       X580      0.009323  0.132159  0.070546  0.943759\n",
      "96        X91     -0.019867  0.119283 -0.166551  0.867724\n",
      "97       X518      0.158258  0.882711  0.179286  0.857713\n",
      "98       X223     -0.000269  0.102953 -0.002613  0.997915\n",
      "99       X511      0.047017  0.096159  0.488950  0.624877\n",
      "\n",
      "[100 rows x 5 columns]\n"
     ]
    }
   ],
   "source": [
    "import numpy as np\n",
    "import seaborn as sns\n",
    "import csv\n",
    "import pandas as pd\n",
    "import matplotlib.pyplot as plt\n",
    "import statsmodels\n",
    "import scipy\n",
    "from scipy.stats.mstats import winsorize\n",
    "\n",
    "df = pd.read_csv(r'glm.csv')\n",
    "df_adj = pd.read_csv(r'glm_adj.csv')\n",
    "print(df)\n",
    "print(df_adj)"
   ]
  },
  {
   "cell_type": "code",
   "execution_count": 3,
   "metadata": {},
   "outputs": [
    {
     "name": "stdout",
     "output_type": "stream",
     "text": [
      "           x         y\n",
      "0   0.052351  0.044636\n",
      "1   0.048599  0.041437\n",
      "2   0.014807  0.012625\n",
      "3  -0.032072 -0.027345\n",
      "4  -0.009427 -0.008038\n",
      "..       ...       ...\n",
      "95  0.010935  0.009323\n",
      "96 -0.023300 -0.019867\n",
      "97  0.185612  0.158258\n",
      "98 -0.000316 -0.000269\n",
      "99  0.055144  0.047017\n",
      "\n",
      "[100 rows x 2 columns]\n"
     ]
    }
   ],
   "source": [
    "scatter = pd.DataFrame()\n",
    "scatter.insert(0,'x',df['Estimate'])\n",
    "scatter.insert(1,'y', df_adj['adjusted_mle'])\n",
    "print(scatter)"
   ]
  },
  {
   "cell_type": "code",
   "execution_count": 4,
   "metadata": {},
   "outputs": [
    {
     "data": {
      "text/plain": [
       "<seaborn.axisgrid.FacetGrid at 0x7f8df1e35e50>"
      ]
     },
     "execution_count": 4,
     "metadata": {},
     "output_type": "execute_result"
    },
    {
     "data": {
      "image/png": "[encoded data removed]",
      "text/plain": [
       "<Figure size 360x360 with 1 Axes>"
      ]
     },
     "metadata": {
      "needs_background": "light"
     },
     "output_type": "display_data"
    }
   ],
   "source": [
    "s = sns.displot(df,x = \"Pr(>|z|)\")\n",
    "s.set(xlabel = 'p.value')\n",
    "s.set_titles('p-values for the unadjusted GLM')"
   ]
  },
  {
   "cell_type": "code",
   "execution_count": 5,
   "metadata": {},
   "outputs": [
    {
     "ename": "AttributeError",
     "evalue": "'FacetGrid' object has no attribute 'set_title'",
     "output_type": "error",
     "traceback": [
      "\u001b[0;31m---------------------------------------------------------------------------\u001b[0m",
      "\u001b[0;31mAttributeError\u001b[0m                            Traceback (most recent call last)",
      "\u001b[0;32m<ipython-input-5-952658c0e2c3>\u001b[0m in \u001b[0;36m<module>\u001b[0;34m\u001b[0m\n\u001b[1;32m      1\u001b[0m \u001b[0msns\u001b[0m\u001b[0;34m.\u001b[0m\u001b[0mdisplot\u001b[0m\u001b[0;34m(\u001b[0m\u001b[0mdf_adj\u001b[0m\u001b[0;34m,\u001b[0m\u001b[0mx\u001b[0m\u001b[0;34m=\u001b[0m\u001b[0;34m\"p.value\"\u001b[0m\u001b[0;34m)\u001b[0m\u001b[0;34m\u001b[0m\u001b[0;34m\u001b[0m\u001b[0m\n\u001b[0;32m----> 2\u001b[0;31m \u001b[0ms\u001b[0m\u001b[0;34m.\u001b[0m\u001b[0mset_title\u001b[0m\u001b[0;34m(\u001b[0m\u001b[0;34m'p-values for the adjusted GLM'\u001b[0m\u001b[0;34m)\u001b[0m\u001b[0;34m\u001b[0m\u001b[0;34m\u001b[0m\u001b[0m\n\u001b[0m",
      "\u001b[0;31mAttributeError\u001b[0m: 'FacetGrid' object has no attribute 'set_title'"
     ]
    },
    {
     "data": {
      "image/png": "[encoded data removed]",
      "text/plain": [
       "<Figure size 360x360 with 1 Axes>"
      ]
     },
     "metadata": {
      "needs_background": "light"
     },
     "output_type": "display_data"
    }
   ],
   "source": [
    "sns.displot(df_adj,x=\"p.value\")\n",
    "s.set_title('p-values for the adjusted GLM')"
   ]
  },
  {
   "cell_type": "code",
   "execution_count": 6,
   "metadata": {},
   "outputs": [
    {
     "data": {
      "text/plain": [
       "<matplotlib.axes._subplots.AxesSubplot at 0x7f8df4e055e0>"
      ]
     },
     "execution_count": 6,
     "metadata": {},
     "output_type": "execute_result"
    },
    {
     "data": {
      "image/png": "[encoded data removed]",
      "text/plain": [
       "<Figure size 432x288 with 1 Axes>"
      ]
     },
     "metadata": {
      "needs_background": "light"
     },
     "output_type": "display_data"
    }
   ],
   "source": [
    "sns.scatterplot(data = scatter, x = 'x', y = 'y')"
   ]
  },
  {
   "cell_type": "code",
   "execution_count": 7,
   "metadata": {},
   "outputs": [
    {
     "data": {
      "text/plain": [
       "<seaborn.axisgrid.FacetGrid at 0x7f8df4ada8b0>"
      ]
     },
     "execution_count": 7,
     "metadata": {},
     "output_type": "execute_result"
    },
    {
     "data": {
      "image/png": "[encoded data removed]",
      "text/plain": [
       "<Figure size 360x360 with 1 Axes>"
      ]
     },
     "metadata": {
      "needs_background": "light"
     },
     "output_type": "display_data"
    }
   ],
   "source": [
    "sns.displot(df,x = \"Std. Error\")"
   ]
  },
  {
   "cell_type": "code",
   "execution_count": 8,
   "metadata": {},
   "outputs": [],
   "source": [
    "a = df_adj[\"std\"]\n",
    "b = df[\"Std. Error\"]\n",
    "aw = winsorize(a, limits = [0.1,0.1])\n",
    "bw = winsorize(b,limits = [0.1,0.1])"
   ]
  },
  {
   "cell_type": "code",
   "execution_count": 9,
   "metadata": {},
   "outputs": [],
   "source": [
    "sigma_ratio = a/b"
   ]
  },
  {
   "cell_type": "code",
   "execution_count": 10,
   "metadata": {},
   "outputs": [
    {
     "name": "stdout",
     "output_type": "stream",
     "text": [
      "      x         y\n",
      "0     1  1.787883\n",
      "1     2  1.792988\n",
      "2     3  1.798508\n",
      "3     4  1.785336\n",
      "4     5  1.798257\n",
      "..  ...       ...\n",
      "95   96  1.794196\n",
      "96   97  1.790791\n",
      "97   98  1.796769\n",
      "98   99  1.779988\n",
      "99  100  1.795742\n",
      "\n",
      "[100 rows x 2 columns]\n"
     ]
    }
   ],
   "source": [
    "scatter_sigma = pd.DataFrame()\n",
    "one_to_hundred = pd.Series(range(1,101))\n",
    "scatter_sigma.insert(0,'x',one_to_hundred)\n",
    "scatter_sigma.insert(1,'y',sigma_ratio)\n",
    "print(scatter_sigma)"
   ]
  },
  {
   "cell_type": "code",
   "execution_count": 11,
   "metadata": {},
   "outputs": [
    {
     "data": {
      "text/plain": [
       "Text(0.5, 1.0, 'Ratios of $\\\\dfrac{\\\\sigma_*}{\\\\sigma}$')"
      ]
     },
     "execution_count": 11,
     "metadata": {},
     "output_type": "execute_result"
    },
    {
     "data": {
      "image/png": "[encoded data removed]",
      "text/plain": [
       "<Figure size 432x288 with 1 Axes>"
      ]
     },
     "metadata": {
      "needs_background": "light"
     },
     "output_type": "display_data"
    }
   ],
   "source": [
    "s=sns.scatterplot(data = scatter_sigma, x='x', y = 'y')\n",
    "s.set(xlabel = '', ylabel = 'ratio')\n",
    "s.set_title('Ratios of $\\dfrac{\\sigma_*}{\\sigma}$')"
   ]
  },
  {
   "cell_type": "code",
   "execution_count": 23,
   "metadata": {},
   "outputs": [],
   "source": [
    "betadf = pd.read_csv('beta.csv')"
   ]
  },
  {
   "cell_type": "code",
   "execution_count": 25,
   "metadata": {},
   "outputs": [
    {
     "name": "stdout",
     "output_type": "stream",
     "text": [
      "[1.16378830613652, 1.1444991053064901, 1.15922468962611, 1.18829983151655, 1.17298660735904, 1.15932317964241, 1.16864012054842, 1.11558124002342, 1.13651617158125, 1.16862995233053, 1.18554522896695, 1.17294674932756, 1.17242190846048, 1.1672234471138, 1.11002885662677, 1.1342412787418898, 1.17713668066875, 1.13498496674268, 1.16558371789969, 1.14610411223128, 1.17060665731803, 1.1467789410199598, 1.1220425075637301, 1.1019933128386101, 1.14576240634529, 1.17174324939662, 1.16444322827967, 1.1764825567631798, 1.1713668576853602, 1.1711109885412299, 1.1974467944902, 1.1724184417405001, 1.17439519049722]\n",
      "0.34\n"
     ]
    }
   ],
   "source": [
    "mlc = 0\n",
    "beta = []\n",
    "for i in betadf['x']:\n",
    "    if np.isnan(i):\n",
    "        mlc += 1\n",
    "    else:\n",
    "        beta.append(i)\n",
    "print(beta)\n",
    "print(mlc/50)"
   ]
  },
  {
   "cell_type": "code",
   "execution_count": 41,
   "metadata": {},
   "outputs": [
    {
     "name": "stdout",
     "output_type": "stream",
     "text": [
      "    beta ratio\n",
      "0     1.163788\n",
      "1     1.144499\n",
      "2     1.159225\n",
      "3     1.188300\n",
      "4     1.172987\n",
      "5     1.159323\n",
      "6     1.168640\n",
      "7     1.115581\n",
      "8     1.136516\n",
      "9     1.168630\n",
      "10    1.185545\n",
      "11    1.172947\n",
      "12    1.172422\n",
      "13    1.167223\n",
      "14    1.110029\n",
      "15    1.134241\n",
      "16    1.177137\n",
      "17    1.134985\n",
      "18    1.165584\n",
      "19    1.146104\n",
      "20    1.170607\n",
      "21    1.146779\n",
      "22    1.122043\n",
      "23    1.101993\n",
      "24    1.145762\n",
      "25    1.171743\n",
      "26    1.164443\n",
      "27    1.176483\n",
      "28    1.171367\n",
      "29    1.171111\n",
      "30    1.197447\n",
      "31    1.172418\n",
      "32    1.174395\n"
     ]
    }
   ],
   "source": [
    "bplot = pd.DataFrame()\n",
    "bplot.insert(0,'beta ratio',beta)\n",
    "print(bplot)"
   ]
  },
  {
   "cell_type": "code",
   "execution_count": 42,
   "metadata": {},
   "outputs": [
    {
     "data": {
      "text/plain": [
       "<matplotlib.axes._subplots.AxesSubplot at 0x7f8df4d2c490>"
      ]
     },
     "execution_count": 42,
     "metadata": {},
     "output_type": "execute_result"
    },
    {
     "data": {
      "image/png": "[encoded data removed]",
      "text/plain": [
       "<Figure size 432x288 with 1 Axes>"
      ]
     },
     "metadata": {
      "needs_background": "light"
     },
     "output_type": "display_data"
    }
   ],
   "source": [
    "sns.scatterplot(data = bplot)"
   ]
  },
  {
   "cell_type": "code",
   "execution_count": null,
   "metadata": {},
   "outputs": [],
   "source": []
  }
 ],
 "metadata": {
  "kernelspec": {
   "display_name": "Python 3",
   "language": "python",
   "name": "python3"
  },
  "language_info": {
   "codemirror_mode": {
    "name": "ipython",
    "version": 3
   },
   "file_extension": ".py",
   "mimetype": "text/x-python",
   "name": "python",
   "nbconvert_exporter": "python",
   "pygments_lexer": "ipython3",
   "version": "3.8.3"
  }
 },
 "nbformat": 4,
 "nbformat_minor": 4
}
